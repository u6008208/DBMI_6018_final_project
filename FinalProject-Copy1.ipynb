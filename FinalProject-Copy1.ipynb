{
 "cells": [
  {
   "cell_type": "markdown",
   "metadata": {},
   "source": [
    "# STEWARDSHIP-BASED SUSCEPTIBILITY REPORTS\n",
    "\n",
    "Run all cells at once or indiviudally. You will be prompted for input twice (the jovyan password to connect to mysql and to select an individual suscpetibility report). "
   ]
  },
  {
   "cell_type": "markdown",
   "metadata": {},
   "source": [
    "# PULL MICROBIOLOGY DATA FROM MIMIC-II"
   ]
  },
  {
   "cell_type": "markdown",
   "metadata": {},
   "source": [
    "Enter the password (you know it) for jovyan when prompted. "
   ]
  },
  {
   "cell_type": "code",
   "execution_count": null,
   "metadata": {},
   "outputs": [],
   "source": [
    "import pymysql\n",
    "import pandas as pd\n",
    "import numpy as np\n",
    "import getpass\n",
    "\n",
    "conn = pymysql.connect(host=\"mysql\",\n",
    "                       port=3306,\n",
    "                       user=\"jovyan\",\n",
    "                       passwd=getpass.getpass(\"Enter MySQL passwd for jovyan\"),db='mimic2')\n",
    "cursor = conn.cursor()"
   ]
  },
  {
   "cell_type": "markdown",
   "metadata": {},
   "source": [
    "Run the below cell. It pulls the necessary data from MIMIC-II"
   ]
  },
  {
   "cell_type": "code",
   "execution_count": null,
   "metadata": {
    "collapsed": true
   },
   "outputs": [],
   "source": [
    "micro = pd.read_sql(\"\"\"SELECT a.subject_id\n",
    "                   ,a.charttime\n",
    "                   ,b.label as organism\n",
    "                   ,c.label as antibiotic\n",
    "                   ,a.interpretation\n",
    "                   FROM microbiologyevents a\n",
    "                   JOIN d_codeditems b ON a.org_itemid=b.itemid\n",
    "                   JOIN d_codeditems c ON a.ab_itemid=c.itemid\n",
    "                   WHERE a.interpretation != \"None\"\n",
    "                   LIMIT 400\n",
    "                   \"\"\", \n",
    "                   conn)\n",
    "conn.close()"
   ]
  },
  {
   "cell_type": "markdown",
   "metadata": {},
   "source": [
    "# CLASSES"
   ]
  },
  {
   "cell_type": "markdown",
   "metadata": {},
   "source": [
    "Run these next two cells with the necessary classes \"patient\" and \"susceptibility_report\""
   ]
  },
  {
   "cell_type": "code",
   "execution_count": null,
   "metadata": {
    "collapsed": true
   },
   "outputs": [],
   "source": [
    "class patient(object):\n",
    "    \"\"\"Represents a patient within the healthcare system. \n",
    "       Attributes: subject_id\"\"\"\n",
    "    \n",
    "    def __init__(self, subject_id):\n",
    "        self.subject_id = subject_id\n",
    "        \n",
    "    def __str__(self):\n",
    "        return \"Subject ID: \"+str(self.subject_id)"
   ]
  },
  {
   "cell_type": "code",
   "execution_count": null,
   "metadata": {
    "collapsed": true
   },
   "outputs": [],
   "source": [
    "class susceptibility_report(patient):\n",
    "    \"\"\"Represents a culture & sensitivity report for a patient.\n",
    "       Attributes: organism, antibiotic, interpretation\"\"\"\n",
    "    \n",
    "    abx_interp = []\n",
    "    \n",
    "    def __init__(self, subject_id, organism, antibiotic, interpretation):\n",
    "        super(susceptibility_report,self).__init__(subject_id)\n",
    "        self.organism = organism \n",
    "        self.abx_interp = []\n",
    "        self.abx_interp.append([antibiotic, interpretation])        \n",
    "    \n",
    "    def add_report(self, antibiotic, interpretation):\n",
    "        self.abx_interp.append([antibiotic, interpretation])\n",
    "    \n",
    "    def get_report(self):\n",
    "        return self.abx_interp\n",
    "    \n",
    "    def get_organism(self):\n",
    "        return self.organism\n",
    "    \n",
    "    def get_interp(self):\n",
    "        return self.interp\n",
    "    \n",
    "    def __str__(self):\n",
    "        return super(susceptibility_report,self).__str__()+\"; Organism: \"+self.organism+\"; Antibiotic & Susceptibility: \"+str(self.abx_interp)"
   ]
  },
  {
   "cell_type": "markdown",
   "metadata": {},
   "source": [
    "# BUILD SUSCEPTIBILITY REPORTS & CATEGORIZATION"
   ]
  },
  {
   "cell_type": "markdown",
   "metadata": {},
   "source": [
    "Run the below cell. It builds a susceptibility report from the MIMIC-II database for a given patient and culture result. "
   ]
  },
  {
   "cell_type": "code",
   "execution_count": null,
   "metadata": {},
   "outputs": [],
   "source": [
    "df = pd.DataFrame(micro)\n",
    "susceptibility_reports = {}\n",
    "\n",
    "for index, row in micro.iterrows():\n",
    "    if str(row['subject_id'])+\" \"+(row['organism'])+\" \"+str(row['charttime']) in susceptibility_reports.keys():\n",
    "        temp = susceptibility_reports[str(row['subject_id'])+\" \"+(row['organism'])+\" \"+str(row['charttime'])]\n",
    "        temp.add_report(row['antibiotic'], row['interpretation'])\n",
    "    else:\n",
    "        susceptibility_reports[str(row['subject_id'])+\" \"+(row['organism'])+\" \"+str(row['charttime'])]=susceptibility_report(row['subject_id'], row['organism'], row['antibiotic'], row['interpretation'])"
   ]
  },
  {
   "cell_type": "markdown",
   "metadata": {},
   "source": [
    "Run the below cell. It builds a dictionary for categorizing all the antibiotics in the MIMIC-II database based on their spectrum of activity. "
   ]
  },
  {
   "cell_type": "code",
   "execution_count": null,
   "metadata": {
    "collapsed": true
   },
   "outputs": [],
   "source": [
    "abx_cat = {}\n",
    "abx_cat[\"PENICILLIN\"] = \"Narrow\"\n",
    "abx_cat[\"PENICILLIN G\"] = \"Narrow\"\n",
    "abx_cat[\"AMPICILLIN\"] = \"Narrow\"\n",
    "abx_cat[\"CEFAZOLIN\"] = \"Narrow\"\n",
    "abx_cat[\"ERYTHROMYCIN\"] = \"Narrow\"\n",
    "abx_cat[\"CLINDAMYCIN\"] = \"Narrow\"\n",
    "abx_cat[\"TRIMETHOPRIM/SULFA\"] = \"Narrow\"\n",
    "abx_cat[\"NITROFURANTOIN\"] = \"Narrow\"\n",
    "abx_cat[\"TETRACYCLINE\"] = \"Narrow\"\n",
    "abx_cat[\"OXACILLIN\"] = \"Narrow\"\n",
    "abx_cat[\"CEFUROXIME\"] = \"Narrow\"\n",
    "abx_cat[\"VANCOMYCIN\"] = \"Moderate\"\n",
    "abx_cat[\"CEFTRIAXONE\"] = \"Moderate\"\n",
    "abx_cat[\"AMPICILLIN/SULBACTAM\"] = \"Moderate\"\n",
    "abx_cat[\"RIFAMPIN\"] = \"Moderate\"\n",
    "abx_cat[\"CHLORAMPHENICOL\"] = \"Broad\"\n",
    "abx_cat[\"GENTAMICIN\"] = \"Broad\"\n",
    "abx_cat[\"TOBRAMYCIN\"] = \"Broad\"\n",
    "abx_cat[\"AMIKACIN\"] = \"Broad\"\n",
    "abx_cat[\"CEFTAZIDIME\"] = \"Broad\"\n",
    "abx_cat[\"CIPROFLOXACIN\"] = \"Moderate\"\n",
    "abx_cat[\"IMIPENEM\"] = \"Broad\"\n",
    "abx_cat[\"PIPERACILLIN\"] = \"Moderate\"\n",
    "abx_cat[\"LEVOFLOXACIN\"] = \"Moderate\"\n",
    "abx_cat[\"PIPERACILLIN/TAZO\"] = \"Broad\"\n",
    "abx_cat[\"CEFEPIME\"] = \"Broad\"\n",
    "abx_cat[\"MEROPENEM\"] = \"Broad\"\n",
    "abx_cat[\"DAPTOMYCIN\"] = \"Broad\"\n",
    "abx_cat[\"LINEZOLID\"] = \"Broad\""
   ]
  },
  {
   "cell_type": "markdown",
   "metadata": {},
   "source": [
    "# USER INPUT REQUIRED!\n",
    "Run the below cell and enter a number from the far left column when prompted. The number corresponds to an indiviudal susceptibility report. "
   ]
  },
  {
   "cell_type": "code",
   "execution_count": null,
   "metadata": {},
   "outputs": [],
   "source": [
    "key_list = list(susceptibility_reports.keys())\n",
    "for idx, report_title in enumerate(key_list):\n",
    "    print(str(idx)+\" \"+str(report_title))\n",
    "input_num = int(input())\n",
    "\n",
    "print(\"Enter a number from the far left column:\")\n",
    "x = key_list[input_num]"
   ]
  },
  {
   "cell_type": "markdown",
   "metadata": {},
   "source": [
    "Run the below cell. It takes a susceptibility report and builds the Stewardship-Based Susceptibility Report based on both the susceptibility interpretation AND the spectrum of activity category. "
   ]
  },
  {
   "cell_type": "code",
   "execution_count": null,
   "metadata": {},
   "outputs": [],
   "source": [
    "preferred = []\n",
    "consider = []\n",
    "avoid = []\n",
    "for abx,interp in susceptibility_reports[x].get_report():\n",
    "    current_abx = abx+' : '+interp\n",
    "    if current_abx in preferred or current_abx in consider or current_abx in avoid: \n",
    "        continue \n",
    "    if interp == 'R' or interp == 'I':\n",
    "        avoid.append(current_abx)\n",
    "    elif abx_cat[abx] == 'Narrow':\n",
    "        preferred.append(current_abx)\n",
    "\n",
    "timesthru = 0 \n",
    "for abx,interp in susceptibility_reports[x].get_report():\n",
    "    current_abx = abx+' : '+interp\n",
    "    if current_abx in preferred or current_abx in consider or current_abx in avoid: \n",
    "        continue \n",
    "    if abx_cat[abx] == 'Moderate' :\n",
    "        if len(preferred) > 0 and timesthru==0: \n",
    "            consider.append(current_abx)\n",
    "        else:\n",
    "            timesthru += 1\n",
    "            preferred.append(current_abx)\n",
    "            \n",
    "timesthru = 0 \n",
    "for abx,interp in susceptibility_reports[x].get_report():\n",
    "    current_abx = abx+' : '+interp\n",
    "    if current_abx in preferred or current_abx in consider or current_abx in avoid:  \n",
    "        continue \n",
    "    if abx_cat[abx] == 'Broad' :\n",
    "        if len(preferred) > 0 and timesthru == 0: \n",
    "            avoid.append(current_abx)\n",
    "        else:\n",
    "            timesthru += 1\n",
    "            preferred.append(current_abx)"
   ]
  },
  {
   "cell_type": "markdown",
   "metadata": {},
   "source": [
    "# STEWARDSHIP-BASED SUSCEPTIBILITY REPORT\n",
    "Run the below cell to see the output of the Stewardship-Based Susceptibility Report. It categorizes the antibiotics based not only on their susceptibility (S: susceptibile, I: intermediate, or R: resistant) but also on their spectrum of activity in order to guide clinicians to select the narrowest spectrum active agent. "
   ]
  },
  {
   "cell_type": "code",
   "execution_count": null,
   "metadata": {},
   "outputs": [],
   "source": [
    "pref_grp = pd.DataFrame(list(zip(preferred)),columns=['Preferred'])\n",
    "cons_grp = pd.DataFrame(list(zip(consider)),columns=['Consider'])\n",
    "avoid_grp = pd.DataFrame(list(zip(avoid)),columns=['Avoid'])\n",
    "stewie_report = pd.concat([pref_grp, cons_grp,avoid_grp], axis=1)\n",
    "stewie_report.fillna(value=\"-\", inplace=True)\n",
    "\n",
    "print(\"Organism: \"+susceptibility_reports[x].get_organism())\n",
    "stewie_report"
   ]
  }
 ],
 "metadata": {
  "kernelspec": {
   "display_name": "Python 3",
   "language": "python",
   "name": "python3"
  },
  "language_info": {
   "codemirror_mode": {
    "name": "ipython",
    "version": 3
   },
   "file_extension": ".py",
   "mimetype": "text/x-python",
   "name": "python",
   "nbconvert_exporter": "python",
   "pygments_lexer": "ipython3",
   "version": "3.5.2"
  }
 },
 "nbformat": 4,
 "nbformat_minor": 2
}
